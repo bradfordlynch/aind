{
 "cells": [
  {
   "cell_type": "code",
   "execution_count": 11,
   "metadata": {
    "collapsed": false
   },
   "outputs": [],
   "source": [
    "import numpy as np\n",
    "import seaborn as sns\n",
    "import matplotlib.pyplot as plt\n",
    "from sample_players import *\n",
    "from isolation import Board\n",
    "from game_agent import CustomPlayer\n",
    "from game_agent import custom_score\n",
    "\n",
    "%matplotlib inline"
   ]
  },
  {
   "cell_type": "code",
   "execution_count": 6,
   "metadata": {
    "collapsed": true
   },
   "outputs": [],
   "source": [
    "TIME_LIMIT = 150"
   ]
  },
  {
   "cell_type": "code",
   "execution_count": 3,
   "metadata": {
    "collapsed": true
   },
   "outputs": [],
   "source": [
    "def runTrial(player1, player2, game, numTrials=1000):\n",
    "    wins = 0\n",
    "    avg_depth = 0\n",
    "\n",
    "    for i in range(numTrials):\n",
    "        new_game = game.copy()\n",
    "        winner, history, outcome = new_game.play(time_limit=TIME_LIMIT)\n",
    "        if winner == player1:\n",
    "            wins += 1\n",
    "        avg_depth += len(history)\n",
    "\n",
    "    return wins/numTrials, avg_depth/numTrials"
   ]
  },
  {
   "cell_type": "code",
   "execution_count": 7,
   "metadata": {
    "collapsed": false
   },
   "outputs": [],
   "source": [
    "width = 7\n",
    "height = 7\n",
    "probs = np.empty((width,height))\n",
    "dpths = np.empty_like(probs)\n",
    "CUSTOM_ARGS = {\"method\": 'alphabeta', 'iterative': True}\n",
    "player1 = CustomPlayer(score_fn=improved_score, **CUSTOM_ARGS)\n",
    "player2 = CustomPlayer(score_fn=improved_score, **CUSTOM_ARGS)\n",
    "\n",
    "for i in range(probs.shape[0]):\n",
    "    for j in range(probs.shape[1]):\n",
    "        game = Board(player1, player2, width, height)\n",
    "        game.apply_move((i,j))\n",
    "        game.apply_move(player2.get_move(game, game.get_legal_moves(player2), lambda: 200))\n",
    "        prob, depth = runTrial(player1, player2, game, 1)\n",
    "        probs[i,j] = prob\n",
    "        dpths[i,j] = depth\n"
   ]
  },
  {
   "cell_type": "code",
   "execution_count": 15,
   "metadata": {
    "collapsed": false
   },
   "outputs": [
    {
     "data": {
      "text/plain": [
       "<matplotlib.text.Text at 0x118728438>"
      ]
     },
     "execution_count": 15,
     "metadata": {},
     "output_type": "execute_result"
    },
    {
     "data": {
      "image/png": "[encoded data removed]",
      "text/plain": [
       "<matplotlib.figure.Figure at 0x1185bfa20>"
      ]
     },
     "metadata": {},
     "output_type": "display_data"
    }
   ],
   "source": [
    "plt.figure()\n",
    "plt.title(\"Result of Game Based on Opening Move\")\n",
    "g = sns.heatmap(probs, square=True, xticklabels=range(1,8), yticklabels=range(1,8))\n",
    "g.set_xlabel('Column')\n",
    "g.set_ylabel('Row')"
   ]
  },
  {
   "cell_type": "code",
   "execution_count": 16,
   "metadata": {
    "collapsed": false
   },
   "outputs": [
    {
     "data": {
      "text/plain": [
       "<matplotlib.text.Text at 0x1191e85c0>"
      ]
     },
     "execution_count": 16,
     "metadata": {},
     "output_type": "execute_result"
    },
    {
     "data": {
      "image/png": "[encoded data removed]",
      "text/plain": [
       "<matplotlib.figure.Figure at 0x119104908>"
      ]
     },
     "metadata": {},
     "output_type": "display_data"
    }
   ],
   "source": [
    "plt.figure()\n",
    "plt.title(\"Depth of Game Based on Opening Move\")\n",
    "g = sns.heatmap(dpths, square=True, xticklabels=range(1,8), yticklabels=range(1,8))\n",
    "g.set_xlabel('Column')\n",
    "g.set_ylabel('Row')"
   ]
  },
  {
   "cell_type": "code",
   "execution_count": null,
   "metadata": {
    "collapsed": true
   },
   "outputs": [],
   "source": []
  },
  {
   "cell_type": "code",
   "execution_count": null,
   "metadata": {
    "collapsed": true
   },
   "outputs": [],
   "source": []
  },
  {
   "cell_type": "code",
   "execution_count": null,
   "metadata": {
    "collapsed": true
   },
   "outputs": [],
   "source": []
  },
  {
   "cell_type": "code",
   "execution_count": null,
   "metadata": {
    "collapsed": true
   },
   "outputs": [],
   "source": []
  },
  {
   "cell_type": "code",
   "execution_count": null,
   "metadata": {
    "collapsed": true
   },
   "outputs": [],
   "source": []
  },
  {
   "cell_type": "code",
   "execution_count": null,
   "metadata": {
    "collapsed": true
   },
   "outputs": [],
   "source": []
  },
  {
   "cell_type": "code",
   "execution_count": null,
   "metadata": {
    "collapsed": true
   },
   "outputs": [],
   "source": []
  },
  {
   "cell_type": "code",
   "execution_count": null,
   "metadata": {
    "collapsed": true
   },
   "outputs": [],
   "source": []
  }
 ],
 "metadata": {
  "anaconda-cloud": {},
  "kernelspec": {
   "display_name": "Python [default]",
   "language": "python",
   "name": "python3"
  },
  "language_info": {
   "codemirror_mode": {
    "name": "ipython",
    "version": 3
   },
   "file_extension": ".py",
   "mimetype": "text/x-python",
   "name": "python",
   "nbconvert_exporter": "python",
   "pygments_lexer": "ipython3",
   "version": "3.5.2"
  }
 },
 "nbformat": 4,
 "nbformat_minor": 1
}
